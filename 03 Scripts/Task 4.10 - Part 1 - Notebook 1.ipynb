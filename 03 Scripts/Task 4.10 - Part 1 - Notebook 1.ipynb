{
 "cells": [
  {
   "cell_type": "markdown",
   "id": "e3d9f6bb",
   "metadata": {},
   "source": [
    "# Project: Instacart Basket Analysis\n",
    "## Author: Cassy Stunkel\n",
    "## Task 4.10, Part 1\n",
    "\n",
    "## Table of Contents\n",
    "### 01. Import Libraries and Data Set\n",
    "### 02. Security Implications Consideration\n",
    "### 03. Regional Customer Segmentation\n",
    "### 04. Low-Activity Customer Exclusion"
   ]
  },
  {
   "cell_type": "markdown",
   "id": "ae95000a",
   "metadata": {},
   "source": [
    "## 01. Import libraries and data set."
   ]
  },
  {
   "cell_type": "code",
   "execution_count": 1,
   "id": "8b5f15f0",
   "metadata": {},
   "outputs": [],
   "source": [
    "import pandas as pd\n",
    "import numpy as np\n",
    "import os\n",
    "import matplotlib.pyplot as plt\n",
    "import seaborn as sns\n",
    "import scipy"
   ]
  },
  {
   "cell_type": "code",
   "execution_count": 2,
   "id": "76333eda",
   "metadata": {},
   "outputs": [],
   "source": [
    "# Define path\n",
    "path = r'/Users/cassystunkel/Documents/Instacart Basket Analysis'"
   ]
  },
  {
   "cell_type": "code",
   "execution_count": 3,
   "id": "112f83d8",
   "metadata": {},
   "outputs": [],
   "source": [
    "# Import data set\n",
    "df = pd.read_pickle(os.path.join(path, '02 Data', 'Prepared Data', 'ords_prods_cust.pkl'))"
   ]
  },
  {
   "cell_type": "markdown",
   "id": "f6e90a0c",
   "metadata": {},
   "source": [
    "## 02. Consider any security implications that might exist for this new data."
   ]
  },
  {
   "cell_type": "code",
   "execution_count": 4,
   "id": "1300b2d2",
   "metadata": {},
   "outputs": [],
   "source": [
    "# Checking column heads to ensure no identifying information present in dataframe"
   ]
  },
  {
   "cell_type": "code",
   "execution_count": 5,
   "id": "5b63c63b",
   "metadata": {},
   "outputs": [
    {
     "name": "stdout",
     "output_type": "stream",
     "text": [
      "<class 'pandas.core.frame.DataFrame'>\n",
      "RangeIndex: 32434212 entries, 0 to 32434211\n",
      "Data columns (total 30 columns):\n",
      " #   Column                  Dtype  \n",
      "---  ------                  -----  \n",
      " 0   product_id              int64  \n",
      " 1   product_name            object \n",
      " 2   aisle_id                int64  \n",
      " 3   department_id           int64  \n",
      " 4   prices                  float64\n",
      " 5   order_id                int64  \n",
      " 6   user_id                 int64  \n",
      " 7   order_number            int64  \n",
      " 8   orders_day_of_week      int64  \n",
      " 9   order_hour_of_day       int64  \n",
      " 10  days_since_prior_order  float64\n",
      " 11  first_order             bool   \n",
      " 12  add_to_cart_order       int64  \n",
      " 13  reordered               int64  \n",
      " 14  Busiest day             object \n",
      " 15  Busiest days            object \n",
      " 16  busiest_period_of_day   object \n",
      " 17  max_order               int64  \n",
      " 18  loyalty_flag            object \n",
      " 19  mean_spend              float64\n",
      " 20  spend_flag              object \n",
      " 21  median_order_frequency  float64\n",
      " 22  customer_frequency      object \n",
      " 23  gender                  object \n",
      " 24  state                   object \n",
      " 25  age                     int64  \n",
      " 26  date_joined             object \n",
      " 27  number_of_dependants    int64  \n",
      " 28  fam_status              object \n",
      " 29  income                  int64  \n",
      "dtypes: bool(1), float64(4), int64(14), object(11)\n",
      "memory usage: 7.0+ GB\n"
     ]
    }
   ],
   "source": [
    "df.info()"
   ]
  },
  {
   "cell_type": "markdown",
   "id": "9abda5f4",
   "metadata": {},
   "source": [
    "#### No personally identifiable information present within the dataframe."
   ]
  },
  {
   "cell_type": "markdown",
   "id": "ee8bfea0",
   "metadata": {},
   "source": [
    "## 03. The Instacart officers are interested in comparing customer behavior in different geographic areas. Create a regional segmentation of the data."
   ]
  },
  {
   "cell_type": "code",
   "execution_count": 6,
   "id": "a8ebaff4",
   "metadata": {},
   "outputs": [],
   "source": [
    "# Create new column 'region' based on the 'state' column using for-loop\n",
    "result = []\n",
    "for value in df['state']:\n",
    "    if value == 'Maine' or value == 'New Hampshire' or value == 'Vermont' or value == 'Massachusetts' or value == 'Rhode Island' or value == 'Connecticut' or value == 'New York' or value == 'Pennsylvania' or value == 'New Jersey':\n",
    "        result.append('Northeast')\n",
    "    elif value == 'Wisconsin' or value == 'Michigan' or value == 'Illinois' or value == 'Indiana' or value == 'Ohio' or value == 'North Dakota' or value == 'South Dakota' or value == 'Nebraska' or value == 'Kansas' or value == 'Minnesota' or value == 'Iowa' or value == 'Missouri':\n",
    "        result.append('Midwest')\n",
    "    elif value == 'Delaware' or value == 'Maryland' or value == 'District of Columbia' or value == 'Virginia' or value == 'West Virginia' or value == 'North Carolina' or value == 'South Carolina' or value == 'Georgia' or value == 'Florida' or value == 'Kentucky' or value == 'Tennessee' or value == 'Mississippi' or value == 'Alabama' or value == 'Oklahoma' or value == 'Texas' or value == 'Arkansas' or value == 'Louisiana':\n",
    "        result.append('South')\n",
    "    elif value == 'Idaho' or value == 'Montana' or value == 'Wyoming' or value == 'Nevada' or value == 'Utah' or value == 'Colorado' or value == 'Arizona' or value == 'New Mexico' or value == 'Alaska' or value == 'Washington' or value == 'Oregon' or value == 'California' or value == 'Hawaii':\n",
    "        result.append('West')\n",
    "    else:\n",
    "        result.append('missing')"
   ]
  },
  {
   "cell_type": "code",
   "execution_count": 7,
   "id": "b5ae3d72",
   "metadata": {},
   "outputs": [],
   "source": [
    "# Combine results with dataframe\n",
    "df['region'] = result"
   ]
  },
  {
   "cell_type": "code",
   "execution_count": 8,
   "id": "eb356fc5",
   "metadata": {},
   "outputs": [
    {
     "data": {
      "text/plain": [
       "region\n",
       "South        10801610\n",
       "West          8300445\n",
       "Midwest       7603810\n",
       "Northeast     5728347\n",
       "Name: count, dtype: int64"
      ]
     },
     "execution_count": 8,
     "metadata": {},
     "output_type": "execute_result"
    }
   ],
   "source": [
    "# Print frequency of new 'region' column\n",
    "df['region'].value_counts(dropna = False)"
   ]
  },
  {
   "cell_type": "markdown",
   "id": "6b228b7b",
   "metadata": {},
   "source": [
    "### Determine whether there's a difference in spending habits between the different US regions."
   ]
  },
  {
   "cell_type": "code",
   "execution_count": 10,
   "id": "54b6470a",
   "metadata": {},
   "outputs": [],
   "source": [
    "# Create crosstab to compare 'region' and 'spend_flag' columns\n",
    "crosstab = pd.crosstab(df['region'], df['spend_flag'], dropna = False)"
   ]
  },
  {
   "cell_type": "code",
   "execution_count": 11,
   "id": "8b1bd501",
   "metadata": {},
   "outputs": [
    {
     "data": {
      "text/html": [
       "<div>\n",
       "<style scoped>\n",
       "    .dataframe tbody tr th:only-of-type {\n",
       "        vertical-align: middle;\n",
       "    }\n",
       "\n",
       "    .dataframe tbody tr th {\n",
       "        vertical-align: top;\n",
       "    }\n",
       "\n",
       "    .dataframe thead th {\n",
       "        text-align: right;\n",
       "    }\n",
       "</style>\n",
       "<table border=\"1\" class=\"dataframe\">\n",
       "  <thead>\n",
       "    <tr style=\"text-align: right;\">\n",
       "      <th>spend_flag</th>\n",
       "      <th>High spender</th>\n",
       "      <th>Low spender</th>\n",
       "    </tr>\n",
       "    <tr>\n",
       "      <th>region</th>\n",
       "      <th></th>\n",
       "      <th></th>\n",
       "    </tr>\n",
       "  </thead>\n",
       "  <tbody>\n",
       "    <tr>\n",
       "      <th>Midwest</th>\n",
       "      <td>156129</td>\n",
       "      <td>7447681</td>\n",
       "    </tr>\n",
       "    <tr>\n",
       "      <th>Northeast</th>\n",
       "      <td>108343</td>\n",
       "      <td>5620004</td>\n",
       "    </tr>\n",
       "    <tr>\n",
       "      <th>South</th>\n",
       "      <td>210182</td>\n",
       "      <td>10591428</td>\n",
       "    </tr>\n",
       "    <tr>\n",
       "      <th>West</th>\n",
       "      <td>160807</td>\n",
       "      <td>8139638</td>\n",
       "    </tr>\n",
       "  </tbody>\n",
       "</table>\n",
       "</div>"
      ],
      "text/plain": [
       "spend_flag  High spender  Low spender\n",
       "region                               \n",
       "Midwest           156129      7447681\n",
       "Northeast         108343      5620004\n",
       "South             210182     10591428\n",
       "West              160807      8139638"
      ]
     },
     "execution_count": 11,
     "metadata": {},
     "output_type": "execute_result"
    }
   ],
   "source": [
    "crosstab"
   ]
  },
  {
   "cell_type": "markdown",
   "id": "ae4c3e7a",
   "metadata": {},
   "source": [
    "#### The South has both the highest numbers of high spenders and low spenders."
   ]
  },
  {
   "cell_type": "markdown",
   "id": "e4c4c638",
   "metadata": {},
   "source": [
    "## 04. The Instacart CFO isn't interested in customers who don't generate much revenue for the app. Create an exclusion flag for low-activity customers (customers with less than 5 orders) and exclude them from the data."
   ]
  },
  {
   "cell_type": "code",
   "execution_count": 12,
   "id": "1e095804",
   "metadata": {},
   "outputs": [],
   "source": [
    "# Create new column 'active_status' with customers with <5 orders flagged as 'low-activity' and customers with >=5 orders flagged as 'active' using loc()\n",
    "df.loc[df['order_number'] < 5, 'active_status'] = 'low-activity'\n",
    "df.loc[df['order_number'] >= 5, 'active_status'] = 'active'"
   ]
  },
  {
   "cell_type": "code",
   "execution_count": 17,
   "id": "14b9ac0e",
   "metadata": {},
   "outputs": [
    {
     "data": {
      "text/plain": [
       "active_status\n",
       "active          24436791\n",
       "low-activity     7997421\n",
       "Name: count, dtype: int64"
      ]
     },
     "execution_count": 17,
     "metadata": {},
     "output_type": "execute_result"
    }
   ],
   "source": [
    "# Check frequency of new column\n",
    "df['active_status'].value_counts(dropna = False)"
   ]
  },
  {
   "cell_type": "code",
   "execution_count": 18,
   "id": "a51f1930",
   "metadata": {},
   "outputs": [],
   "source": [
    "# Create new dataframe dropping any rows with 'low-activity'\n",
    "df_no_low_activity = df.drop(df[df['active_status'] == 'low-activity'].index)"
   ]
  },
  {
   "cell_type": "code",
   "execution_count": 19,
   "id": "9134234d",
   "metadata": {},
   "outputs": [
    {
     "data": {
      "text/plain": [
       "active_status\n",
       "active    24436791\n",
       "Name: count, dtype: int64"
      ]
     },
     "execution_count": 19,
     "metadata": {},
     "output_type": "execute_result"
    }
   ],
   "source": [
    "# Check frequency of 'active_status' column in new dataframe\n",
    "df_no_low_activity['active_status'].value_counts(dropna = False)"
   ]
  },
  {
   "cell_type": "code",
   "execution_count": 20,
   "id": "8fc2ffd1",
   "metadata": {},
   "outputs": [],
   "source": [
    "# Export new dataset\n",
    "df_no_low_activity.to_pickle(os.path.join(path, '02 Data', 'Prepared Data', 'no_low_activity.pkl'))"
   ]
  }
 ],
 "metadata": {
  "kernelspec": {
   "display_name": "Python 3 (ipykernel)",
   "language": "python",
   "name": "python3"
  },
  "language_info": {
   "codemirror_mode": {
    "name": "ipython",
    "version": 3
   },
   "file_extension": ".py",
   "mimetype": "text/x-python",
   "name": "python",
   "nbconvert_exporter": "python",
   "pygments_lexer": "ipython3",
   "version": "3.11.5"
  }
 },
 "nbformat": 4,
 "nbformat_minor": 5
}
